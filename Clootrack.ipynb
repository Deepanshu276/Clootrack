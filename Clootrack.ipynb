{
 "cells": [
  {
   "cell_type": "code",
   "execution_count": 21,
   "metadata": {
    "scrolled": true
   },
   "outputs": [],
   "source": [
    "#importing important library\n",
    "import numpy as np\n",
    "import pandas as pd\n",
    "import seaborn as sns \n",
    "from textblob import TextBlob"
   ]
  },
  {
   "cell_type": "markdown",
   "metadata": {},
   "source": [
    "# Importing the Dataset"
   ]
  },
  {
   "cell_type": "code",
   "execution_count": 2,
   "metadata": {},
   "outputs": [
    {
     "data": {
      "text/html": [
       "<div>\n",
       "<style scoped>\n",
       "    .dataframe tbody tr th:only-of-type {\n",
       "        vertical-align: middle;\n",
       "    }\n",
       "\n",
       "    .dataframe tbody tr th {\n",
       "        vertical-align: top;\n",
       "    }\n",
       "\n",
       "    .dataframe thead th {\n",
       "        text-align: right;\n",
       "    }\n",
       "</style>\n",
       "<table border=\"1\" class=\"dataframe\">\n",
       "  <thead>\n",
       "    <tr style=\"text-align: right;\">\n",
       "      <th></th>\n",
       "      <th>Review</th>\n",
       "      <th>date</th>\n",
       "      <th>Location</th>\n",
       "    </tr>\n",
       "  </thead>\n",
       "  <tbody>\n",
       "    <tr>\n",
       "      <th>0</th>\n",
       "      <td>I was very impressed with the resort.\\n Great ...</td>\n",
       "      <td>2019-08-20</td>\n",
       "      <td>Sebastian</td>\n",
       "    </tr>\n",
       "    <tr>\n",
       "      <th>1</th>\n",
       "      <td>The rooms were nice the outside needs work als...</td>\n",
       "      <td>2019-08-20</td>\n",
       "      <td>Los Angeles</td>\n",
       "    </tr>\n",
       "    <tr>\n",
       "      <th>2</th>\n",
       "      <td>Great location! I have stayed at this hotel on...</td>\n",
       "      <td>2019-08-20</td>\n",
       "      <td>Georgia</td>\n",
       "    </tr>\n",
       "    <tr>\n",
       "      <th>3</th>\n",
       "      <td>The hotel was adequate for my stay. The strips...</td>\n",
       "      <td>2019-08-20</td>\n",
       "      <td>NaN</td>\n",
       "    </tr>\n",
       "    <tr>\n",
       "      <th>4</th>\n",
       "      <td>Great location, room was large and spacious. P...</td>\n",
       "      <td>2019-08-19</td>\n",
       "      <td>Palm Harbor</td>\n",
       "    </tr>\n",
       "    <tr>\n",
       "      <th>...</th>\n",
       "      <td>...</td>\n",
       "      <td>...</td>\n",
       "      <td>...</td>\n",
       "    </tr>\n",
       "    <tr>\n",
       "      <th>6443</th>\n",
       "      <td>·the staff were all so friendly. frank, the ch...</td>\n",
       "      <td>2019-07-12</td>\n",
       "      <td>United States of America</td>\n",
       "    </tr>\n",
       "    <tr>\n",
       "      <th>6444</th>\n",
       "      <td>·the internet barely worked or didn't work</td>\n",
       "      <td>2019-07-12</td>\n",
       "      <td>United States of America</td>\n",
       "    </tr>\n",
       "    <tr>\n",
       "      <th>6445</th>\n",
       "      <td>·the location was great.\\n \\n \\n \\n \\n ·the be...</td>\n",
       "      <td>2019-07-10</td>\n",
       "      <td>United States of America</td>\n",
       "    </tr>\n",
       "    <tr>\n",
       "      <th>6446</th>\n",
       "      <td>·we were early for check in and the staff was ...</td>\n",
       "      <td>2019-07-10</td>\n",
       "      <td>United States of America</td>\n",
       "    </tr>\n",
       "    <tr>\n",
       "      <th>6447</th>\n",
       "      <td>·staff, free coffee, location and activities.\\...</td>\n",
       "      <td>2019-07-10</td>\n",
       "      <td>United States of America</td>\n",
       "    </tr>\n",
       "  </tbody>\n",
       "</table>\n",
       "<p>6448 rows × 3 columns</p>\n",
       "</div>"
      ],
      "text/plain": [
       "                                                 Review       date  \\\n",
       "0     I was very impressed with the resort.\\n Great ... 2019-08-20   \n",
       "1     The rooms were nice the outside needs work als... 2019-08-20   \n",
       "2     Great location! I have stayed at this hotel on... 2019-08-20   \n",
       "3     The hotel was adequate for my stay. The strips... 2019-08-20   \n",
       "4     Great location, room was large and spacious. P... 2019-08-19   \n",
       "...                                                 ...        ...   \n",
       "6443  ·the staff were all so friendly. frank, the ch... 2019-07-12   \n",
       "6444         ·the internet barely worked or didn't work 2019-07-12   \n",
       "6445  ·the location was great.\\n \\n \\n \\n \\n ·the be... 2019-07-10   \n",
       "6446  ·we were early for check in and the staff was ... 2019-07-10   \n",
       "6447  ·staff, free coffee, location and activities.\\... 2019-07-10   \n",
       "\n",
       "                      Location  \n",
       "0                    Sebastian  \n",
       "1                  Los Angeles  \n",
       "2                      Georgia  \n",
       "3                          NaN  \n",
       "4                  Palm Harbor  \n",
       "...                        ...  \n",
       "6443  United States of America  \n",
       "6444  United States of America  \n",
       "6445  United States of America  \n",
       "6446  United States of America  \n",
       "6447  United States of America  \n",
       "\n",
       "[6448 rows x 3 columns]"
      ]
     },
     "execution_count": 2,
     "metadata": {},
     "output_type": "execute_result"
    }
   ],
   "source": [
    "data1=pd.read_excel(\"Data Analyst - Test Data.xlsx\")\n",
    "df=data1\n",
    "df"
   ]
  },
  {
   "cell_type": "code",
   "execution_count": 3,
   "metadata": {},
   "outputs": [
    {
     "data": {
      "text/html": [
       "<div>\n",
       "<style scoped>\n",
       "    .dataframe tbody tr th:only-of-type {\n",
       "        vertical-align: middle;\n",
       "    }\n",
       "\n",
       "    .dataframe tbody tr th {\n",
       "        vertical-align: top;\n",
       "    }\n",
       "\n",
       "    .dataframe thead th {\n",
       "        text-align: right;\n",
       "    }\n",
       "</style>\n",
       "<table border=\"1\" class=\"dataframe\">\n",
       "  <thead>\n",
       "    <tr style=\"text-align: right;\">\n",
       "      <th></th>\n",
       "      <th>Review</th>\n",
       "      <th>date</th>\n",
       "      <th>Location</th>\n",
       "    </tr>\n",
       "  </thead>\n",
       "  <tbody>\n",
       "    <tr>\n",
       "      <th>0</th>\n",
       "      <td>I was very impressed with the resort.\\n Great ...</td>\n",
       "      <td>2019-08-20</td>\n",
       "      <td>Sebastian</td>\n",
       "    </tr>\n",
       "    <tr>\n",
       "      <th>1</th>\n",
       "      <td>The rooms were nice the outside needs work als...</td>\n",
       "      <td>2019-08-20</td>\n",
       "      <td>Los Angeles</td>\n",
       "    </tr>\n",
       "    <tr>\n",
       "      <th>2</th>\n",
       "      <td>Great location! I have stayed at this hotel on...</td>\n",
       "      <td>2019-08-20</td>\n",
       "      <td>Georgia</td>\n",
       "    </tr>\n",
       "    <tr>\n",
       "      <th>3</th>\n",
       "      <td>The hotel was adequate for my stay. The strips...</td>\n",
       "      <td>2019-08-20</td>\n",
       "      <td>NaN</td>\n",
       "    </tr>\n",
       "    <tr>\n",
       "      <th>4</th>\n",
       "      <td>Great location, room was large and spacious. P...</td>\n",
       "      <td>2019-08-19</td>\n",
       "      <td>Palm Harbor</td>\n",
       "    </tr>\n",
       "  </tbody>\n",
       "</table>\n",
       "</div>"
      ],
      "text/plain": [
       "                                              Review       date     Location\n",
       "0  I was very impressed with the resort.\\n Great ... 2019-08-20    Sebastian\n",
       "1  The rooms were nice the outside needs work als... 2019-08-20  Los Angeles\n",
       "2  Great location! I have stayed at this hotel on... 2019-08-20      Georgia\n",
       "3  The hotel was adequate for my stay. The strips... 2019-08-20          NaN\n",
       "4  Great location, room was large and spacious. P... 2019-08-19  Palm Harbor"
      ]
     },
     "execution_count": 3,
     "metadata": {},
     "output_type": "execute_result"
    }
   ],
   "source": [
    "#Displaying the top 5 rows of the data\n",
    "df.head(5)"
   ]
  },
  {
   "cell_type": "code",
   "execution_count": 4,
   "metadata": {},
   "outputs": [
    {
     "data": {
      "text/html": [
       "<div>\n",
       "<style scoped>\n",
       "    .dataframe tbody tr th:only-of-type {\n",
       "        vertical-align: middle;\n",
       "    }\n",
       "\n",
       "    .dataframe tbody tr th {\n",
       "        vertical-align: top;\n",
       "    }\n",
       "\n",
       "    .dataframe thead th {\n",
       "        text-align: right;\n",
       "    }\n",
       "</style>\n",
       "<table border=\"1\" class=\"dataframe\">\n",
       "  <thead>\n",
       "    <tr style=\"text-align: right;\">\n",
       "      <th></th>\n",
       "      <th>Review</th>\n",
       "      <th>date</th>\n",
       "      <th>Location</th>\n",
       "    </tr>\n",
       "  </thead>\n",
       "  <tbody>\n",
       "    <tr>\n",
       "      <th>6443</th>\n",
       "      <td>·the staff were all so friendly. frank, the ch...</td>\n",
       "      <td>2019-07-12</td>\n",
       "      <td>United States of America</td>\n",
       "    </tr>\n",
       "    <tr>\n",
       "      <th>6444</th>\n",
       "      <td>·the internet barely worked or didn't work</td>\n",
       "      <td>2019-07-12</td>\n",
       "      <td>United States of America</td>\n",
       "    </tr>\n",
       "    <tr>\n",
       "      <th>6445</th>\n",
       "      <td>·the location was great.\\n \\n \\n \\n \\n ·the be...</td>\n",
       "      <td>2019-07-10</td>\n",
       "      <td>United States of America</td>\n",
       "    </tr>\n",
       "    <tr>\n",
       "      <th>6446</th>\n",
       "      <td>·we were early for check in and the staff was ...</td>\n",
       "      <td>2019-07-10</td>\n",
       "      <td>United States of America</td>\n",
       "    </tr>\n",
       "    <tr>\n",
       "      <th>6447</th>\n",
       "      <td>·staff, free coffee, location and activities.\\...</td>\n",
       "      <td>2019-07-10</td>\n",
       "      <td>United States of America</td>\n",
       "    </tr>\n",
       "  </tbody>\n",
       "</table>\n",
       "</div>"
      ],
      "text/plain": [
       "                                                 Review       date  \\\n",
       "6443  ·the staff were all so friendly. frank, the ch... 2019-07-12   \n",
       "6444         ·the internet barely worked or didn't work 2019-07-12   \n",
       "6445  ·the location was great.\\n \\n \\n \\n \\n ·the be... 2019-07-10   \n",
       "6446  ·we were early for check in and the staff was ... 2019-07-10   \n",
       "6447  ·staff, free coffee, location and activities.\\... 2019-07-10   \n",
       "\n",
       "                      Location  \n",
       "6443  United States of America  \n",
       "6444  United States of America  \n",
       "6445  United States of America  \n",
       "6446  United States of America  \n",
       "6447  United States of America  "
      ]
     },
     "execution_count": 4,
     "metadata": {},
     "output_type": "execute_result"
    }
   ],
   "source": [
    "#Displaying the last 5 rows of data\n",
    "df.tail(5)"
   ]
  },
  {
   "cell_type": "code",
   "execution_count": 5,
   "metadata": {},
   "outputs": [
    {
     "data": {
      "text/plain": [
       "Index(['Review', 'date', 'Location'], dtype='object')"
      ]
     },
     "execution_count": 5,
     "metadata": {},
     "output_type": "execute_result"
    }
   ],
   "source": [
    "#Columns present in our data\n",
    "df.columns"
   ]
  },
  {
   "cell_type": "code",
   "execution_count": 6,
   "metadata": {},
   "outputs": [
    {
     "data": {
      "text/html": [
       "<div>\n",
       "<style scoped>\n",
       "    .dataframe tbody tr th:only-of-type {\n",
       "        vertical-align: middle;\n",
       "    }\n",
       "\n",
       "    .dataframe tbody tr th {\n",
       "        vertical-align: top;\n",
       "    }\n",
       "\n",
       "    .dataframe thead th {\n",
       "        text-align: right;\n",
       "    }\n",
       "</style>\n",
       "<table border=\"1\" class=\"dataframe\">\n",
       "  <thead>\n",
       "    <tr style=\"text-align: right;\">\n",
       "      <th></th>\n",
       "      <th>Review</th>\n",
       "      <th>date</th>\n",
       "      <th>Location</th>\n",
       "    </tr>\n",
       "  </thead>\n",
       "  <tbody>\n",
       "    <tr>\n",
       "      <th>count</th>\n",
       "      <td>6393</td>\n",
       "      <td>6448</td>\n",
       "      <td>1711</td>\n",
       "    </tr>\n",
       "    <tr>\n",
       "      <th>unique</th>\n",
       "      <td>6384</td>\n",
       "      <td>385</td>\n",
       "      <td>1082</td>\n",
       "    </tr>\n",
       "    <tr>\n",
       "      <th>top</th>\n",
       "      <td>Amazing\\n  \\n  Read more\\n  Read less</td>\n",
       "      <td>2019-06-01 00:00:00</td>\n",
       "      <td>United States of America</td>\n",
       "    </tr>\n",
       "    <tr>\n",
       "      <th>freq</th>\n",
       "      <td>4</td>\n",
       "      <td>150</td>\n",
       "      <td>116</td>\n",
       "    </tr>\n",
       "    <tr>\n",
       "      <th>first</th>\n",
       "      <td>NaN</td>\n",
       "      <td>2018-08-01 00:00:00</td>\n",
       "      <td>NaN</td>\n",
       "    </tr>\n",
       "    <tr>\n",
       "      <th>last</th>\n",
       "      <td>NaN</td>\n",
       "      <td>2019-08-20 00:00:00</td>\n",
       "      <td>NaN</td>\n",
       "    </tr>\n",
       "  </tbody>\n",
       "</table>\n",
       "</div>"
      ],
      "text/plain": [
       "                                       Review                 date  \\\n",
       "count                                    6393                 6448   \n",
       "unique                                   6384                  385   \n",
       "top     Amazing\\n  \\n  Read more\\n  Read less  2019-06-01 00:00:00   \n",
       "freq                                        4                  150   \n",
       "first                                     NaN  2018-08-01 00:00:00   \n",
       "last                                      NaN  2019-08-20 00:00:00   \n",
       "\n",
       "                        Location  \n",
       "count                       1711  \n",
       "unique                      1082  \n",
       "top     United States of America  \n",
       "freq                         116  \n",
       "first                        NaN  \n",
       "last                         NaN  "
      ]
     },
     "execution_count": 6,
     "metadata": {},
     "output_type": "execute_result"
    }
   ],
   "source": [
    "#Analyzing the data using describe()\n",
    "df.describe()"
   ]
  },
  {
   "cell_type": "code",
   "execution_count": 7,
   "metadata": {},
   "outputs": [
    {
     "data": {
      "text/plain": [
       "(6448, 3)"
      ]
     },
     "execution_count": 7,
     "metadata": {},
     "output_type": "execute_result"
    }
   ],
   "source": [
    "#Checking the shape of the data\n",
    "df.shape"
   ]
  },
  {
   "cell_type": "code",
   "execution_count": 9,
   "metadata": {},
   "outputs": [
    {
     "data": {
      "image/png": "[encoded data removed]",
      "text/plain": [
       "<Figure size 432x288 with 1 Axes>"
      ]
     },
     "metadata": {
      "needs_background": "light"
     },
     "output_type": "display_data"
    }
   ],
   "source": [
    "sns.heatmap(df.isnull(),cbar=False,cmap='inferno');"
   ]
  },
  {
   "cell_type": "code",
   "execution_count": 10,
   "metadata": {},
   "outputs": [
    {
     "data": {
      "text/plain": [
       "Review        55\n",
       "date           0\n",
       "Location    4737\n",
       "dtype: int64"
      ]
     },
     "execution_count": 10,
     "metadata": {},
     "output_type": "execute_result"
    }
   ],
   "source": [
    "#Finding the sum of null present in each column by using isnull()\n",
    "df.isnull().sum()"
   ]
  },
  {
   "cell_type": "markdown",
   "metadata": {},
   "source": [
    "From the graph and from the isnull() it is evident that Review have 55 null and Location has 4737 Null "
   ]
  },
  {
   "cell_type": "code",
   "execution_count": 11,
   "metadata": {},
   "outputs": [],
   "source": [
    "#removing the null value from the data and resetting the index\n",
    "df.dropna(inplace=True)\n",
    "df.reset_index(inplace=True)"
   ]
  },
  {
   "cell_type": "code",
   "execution_count": 12,
   "metadata": {},
   "outputs": [],
   "source": [
    "#Removing the Index column\n",
    "df=df.drop(['index'],inplace=False,axis=1)"
   ]
  },
  {
   "cell_type": "code",
   "execution_count": 13,
   "metadata": {},
   "outputs": [
    {
     "data": {
      "text/html": [
       "<div>\n",
       "<style scoped>\n",
       "    .dataframe tbody tr th:only-of-type {\n",
       "        vertical-align: middle;\n",
       "    }\n",
       "\n",
       "    .dataframe tbody tr th {\n",
       "        vertical-align: top;\n",
       "    }\n",
       "\n",
       "    .dataframe thead th {\n",
       "        text-align: right;\n",
       "    }\n",
       "</style>\n",
       "<table border=\"1\" class=\"dataframe\">\n",
       "  <thead>\n",
       "    <tr style=\"text-align: right;\">\n",
       "      <th></th>\n",
       "      <th>Review</th>\n",
       "      <th>date</th>\n",
       "      <th>Location</th>\n",
       "    </tr>\n",
       "  </thead>\n",
       "  <tbody>\n",
       "    <tr>\n",
       "      <th>0</th>\n",
       "      <td>I was very impressed with the resort.\\n Great ...</td>\n",
       "      <td>2019-08-20</td>\n",
       "      <td>Sebastian</td>\n",
       "    </tr>\n",
       "    <tr>\n",
       "      <th>1</th>\n",
       "      <td>The rooms were nice the outside needs work als...</td>\n",
       "      <td>2019-08-20</td>\n",
       "      <td>Los Angeles</td>\n",
       "    </tr>\n",
       "    <tr>\n",
       "      <th>2</th>\n",
       "      <td>Great location! I have stayed at this hotel on...</td>\n",
       "      <td>2019-08-20</td>\n",
       "      <td>Georgia</td>\n",
       "    </tr>\n",
       "    <tr>\n",
       "      <th>3</th>\n",
       "      <td>Great location, room was large and spacious. P...</td>\n",
       "      <td>2019-08-19</td>\n",
       "      <td>Palm Harbor</td>\n",
       "    </tr>\n",
       "    <tr>\n",
       "      <th>4</th>\n",
       "      <td>Very clean and friendly and I love the locatio...</td>\n",
       "      <td>2019-08-19</td>\n",
       "      <td>California</td>\n",
       "    </tr>\n",
       "    <tr>\n",
       "      <th>...</th>\n",
       "      <td>...</td>\n",
       "      <td>...</td>\n",
       "      <td>...</td>\n",
       "    </tr>\n",
       "    <tr>\n",
       "      <th>1700</th>\n",
       "      <td>·the staff were all so friendly. frank, the ch...</td>\n",
       "      <td>2019-07-12</td>\n",
       "      <td>United States of America</td>\n",
       "    </tr>\n",
       "    <tr>\n",
       "      <th>1701</th>\n",
       "      <td>·the internet barely worked or didn't work</td>\n",
       "      <td>2019-07-12</td>\n",
       "      <td>United States of America</td>\n",
       "    </tr>\n",
       "    <tr>\n",
       "      <th>1702</th>\n",
       "      <td>·the location was great.\\n \\n \\n \\n \\n ·the be...</td>\n",
       "      <td>2019-07-10</td>\n",
       "      <td>United States of America</td>\n",
       "    </tr>\n",
       "    <tr>\n",
       "      <th>1703</th>\n",
       "      <td>·we were early for check in and the staff was ...</td>\n",
       "      <td>2019-07-10</td>\n",
       "      <td>United States of America</td>\n",
       "    </tr>\n",
       "    <tr>\n",
       "      <th>1704</th>\n",
       "      <td>·staff, free coffee, location and activities.\\...</td>\n",
       "      <td>2019-07-10</td>\n",
       "      <td>United States of America</td>\n",
       "    </tr>\n",
       "  </tbody>\n",
       "</table>\n",
       "<p>1705 rows × 3 columns</p>\n",
       "</div>"
      ],
      "text/plain": [
       "                                                 Review       date  \\\n",
       "0     I was very impressed with the resort.\\n Great ... 2019-08-20   \n",
       "1     The rooms were nice the outside needs work als... 2019-08-20   \n",
       "2     Great location! I have stayed at this hotel on... 2019-08-20   \n",
       "3     Great location, room was large and spacious. P... 2019-08-19   \n",
       "4     Very clean and friendly and I love the locatio... 2019-08-19   \n",
       "...                                                 ...        ...   \n",
       "1700  ·the staff were all so friendly. frank, the ch... 2019-07-12   \n",
       "1701         ·the internet barely worked or didn't work 2019-07-12   \n",
       "1702  ·the location was great.\\n \\n \\n \\n \\n ·the be... 2019-07-10   \n",
       "1703  ·we were early for check in and the staff was ... 2019-07-10   \n",
       "1704  ·staff, free coffee, location and activities.\\... 2019-07-10   \n",
       "\n",
       "                      Location  \n",
       "0                    Sebastian  \n",
       "1                  Los Angeles  \n",
       "2                      Georgia  \n",
       "3                  Palm Harbor  \n",
       "4                   California  \n",
       "...                        ...  \n",
       "1700  United States of America  \n",
       "1701  United States of America  \n",
       "1702  United States of America  \n",
       "1703  United States of America  \n",
       "1704  United States of America  \n",
       "\n",
       "[1705 rows x 3 columns]"
      ]
     },
     "execution_count": 13,
     "metadata": {},
     "output_type": "execute_result"
    }
   ],
   "source": [
    "#Checking the duplicates of data and removing it \n",
    "df.drop_duplicates()"
   ]
  },
  {
   "cell_type": "code",
   "execution_count": 14,
   "metadata": {},
   "outputs": [
    {
     "data": {
      "text/plain": [
       "Review      1705\n",
       "date         363\n",
       "Location    1078\n",
       "dtype: int64"
      ]
     },
     "execution_count": 14,
     "metadata": {},
     "output_type": "execute_result"
    }
   ],
   "source": [
    "#Checking the Unique value\n",
    "df.nunique()"
   ]
  },
  {
   "cell_type": "markdown",
   "metadata": {},
   "source": [
    "# Looking for Non ASCII lines in reviews"
   ]
  },
  {
   "cell_type": "code",
   "execution_count": 19,
   "metadata": {},
   "outputs": [
    {
     "data": {
      "text/html": [
       "<div>\n",
       "<style scoped>\n",
       "    .dataframe tbody tr th:only-of-type {\n",
       "        vertical-align: middle;\n",
       "    }\n",
       "\n",
       "    .dataframe tbody tr th {\n",
       "        vertical-align: top;\n",
       "    }\n",
       "\n",
       "    .dataframe thead th {\n",
       "        text-align: right;\n",
       "    }\n",
       "</style>\n",
       "<table border=\"1\" class=\"dataframe\">\n",
       "  <thead>\n",
       "    <tr style=\"text-align: right;\">\n",
       "      <th></th>\n",
       "      <th>Review</th>\n",
       "      <th>date</th>\n",
       "      <th>Location</th>\n",
       "    </tr>\n",
       "  </thead>\n",
       "  <tbody>\n",
       "    <tr>\n",
       "      <th>4</th>\n",
       "      <td>Very clean and friendly and I love the locatio...</td>\n",
       "      <td>2019-08-19</td>\n",
       "      <td>California</td>\n",
       "    </tr>\n",
       "    <tr>\n",
       "      <th>7</th>\n",
       "      <td>En general excelente. Fantástica situación\\n D...</td>\n",
       "      <td>2019-08-17</td>\n",
       "      <td>España</td>\n",
       "    </tr>\n",
       "    <tr>\n",
       "      <th>8</th>\n",
       "      <td>Les chambres familiales sont pratiques (nous é...</td>\n",
       "      <td>2019-08-17</td>\n",
       "      <td>Montréal</td>\n",
       "    </tr>\n",
       "    <tr>\n",
       "      <th>11</th>\n",
       "      <td>propreté impeccable. chambre refaite tous les ...</td>\n",
       "      <td>2019-08-15</td>\n",
       "      <td>savasse France</td>\n",
       "    </tr>\n",
       "    <tr>\n",
       "      <th>15</th>\n",
       "      <td>Vétuste mérite un sacré rafraîchissement \\n Em...</td>\n",
       "      <td>2019-08-14</td>\n",
       "      <td>Toulon</td>\n",
       "    </tr>\n",
       "    <tr>\n",
       "      <th>...</th>\n",
       "      <td>...</td>\n",
       "      <td>...</td>\n",
       "      <td>...</td>\n",
       "    </tr>\n",
       "    <tr>\n",
       "      <th>1700</th>\n",
       "      <td>·the staff were all so friendly. frank, the ch...</td>\n",
       "      <td>2019-07-12</td>\n",
       "      <td>United States of America</td>\n",
       "    </tr>\n",
       "    <tr>\n",
       "      <th>1701</th>\n",
       "      <td>·the internet barely worked or didn't work</td>\n",
       "      <td>2019-07-12</td>\n",
       "      <td>United States of America</td>\n",
       "    </tr>\n",
       "    <tr>\n",
       "      <th>1702</th>\n",
       "      <td>·the location was great.\\n \\n \\n \\n \\n ·the be...</td>\n",
       "      <td>2019-07-10</td>\n",
       "      <td>United States of America</td>\n",
       "    </tr>\n",
       "    <tr>\n",
       "      <th>1703</th>\n",
       "      <td>·we were early for check in and the staff was ...</td>\n",
       "      <td>2019-07-10</td>\n",
       "      <td>United States of America</td>\n",
       "    </tr>\n",
       "    <tr>\n",
       "      <th>1704</th>\n",
       "      <td>·staff, free coffee, location and activities.\\...</td>\n",
       "      <td>2019-07-10</td>\n",
       "      <td>United States of America</td>\n",
       "    </tr>\n",
       "  </tbody>\n",
       "</table>\n",
       "<p>500 rows × 3 columns</p>\n",
       "</div>"
      ],
      "text/plain": [
       "                                                 Review       date  \\\n",
       "4     Very clean and friendly and I love the locatio... 2019-08-19   \n",
       "7     En general excelente. Fantástica situación\\n D... 2019-08-17   \n",
       "8     Les chambres familiales sont pratiques (nous é... 2019-08-17   \n",
       "11    propreté impeccable. chambre refaite tous les ... 2019-08-15   \n",
       "15    Vétuste mérite un sacré rafraîchissement \\n Em... 2019-08-14   \n",
       "...                                                 ...        ...   \n",
       "1700  ·the staff were all so friendly. frank, the ch... 2019-07-12   \n",
       "1701         ·the internet barely worked or didn't work 2019-07-12   \n",
       "1702  ·the location was great.\\n \\n \\n \\n \\n ·the be... 2019-07-10   \n",
       "1703  ·we were early for check in and the staff was ... 2019-07-10   \n",
       "1704  ·staff, free coffee, location and activities.\\... 2019-07-10   \n",
       "\n",
       "                      Location  \n",
       "4                   California  \n",
       "7                       España  \n",
       "8                     Montréal  \n",
       "11              savasse France  \n",
       "15                      Toulon  \n",
       "...                        ...  \n",
       "1700  United States of America  \n",
       "1701  United States of America  \n",
       "1702  United States of America  \n",
       "1703  United States of America  \n",
       "1704  United States of America  \n",
       "\n",
       "[500 rows x 3 columns]"
      ]
     },
     "execution_count": 19,
     "metadata": {},
     "output_type": "execute_result"
    }
   ],
   "source": [
    "NON_ASCII = [a.isascii() for a in df.Review]\n",
    "NON_ASCII = pd.Series(NON_ASCII)\n",
    "df[NON_ASCII == False]"
   ]
  },
  {
   "cell_type": "code",
   "execution_count": 20,
   "metadata": {},
   "outputs": [
    {
     "data": {
      "text/plain": [
       "True     1205\n",
       "False     500\n",
       "dtype: int64"
      ]
     },
     "execution_count": 20,
     "metadata": {},
     "output_type": "execute_result"
    }
   ],
   "source": [
    "NON_ASCII.value_counts()"
   ]
  },
  {
   "cell_type": "code",
   "execution_count": 15,
   "metadata": {},
   "outputs": [
    {
     "data": {
      "image/png": "[encoded data removed]",
      "text/plain": [
       "<Figure size 432x288 with 1 Axes>"
      ]
     },
     "metadata": {
      "needs_background": "light"
     },
     "output_type": "display_data"
    }
   ],
   "source": [
    "sns.histplot(df.date,bins=10);"
   ]
  },
  {
   "cell_type": "markdown",
   "metadata": {},
   "source": [
    "# some conclusions"
   ]
  },
  {
   "cell_type": "code",
   "execution_count": 16,
   "metadata": {},
   "outputs": [
    {
     "data": {
      "text/plain": [
       "United States of America    116\n",
       "New York                     34\n",
       "California                   19\n",
       "San Jose                     19\n",
       "Canada                       16\n",
       "                           ... \n",
       "Leeds UK                      1\n",
       "Hilo, HI, U.S.                1\n",
       "Galt                          1\n",
       "Williamstown, NJ              1\n",
       "Delano, Ca.                   1\n",
       "Name: Location, Length: 1078, dtype: int64"
      ]
     },
     "execution_count": 16,
     "metadata": {},
     "output_type": "execute_result"
    }
   ],
   "source": [
    "df['Location'].value_counts(sort=True,ascending=False)"
   ]
  },
  {
   "cell_type": "markdown",
   "metadata": {},
   "source": [
    "The above data shows the most number of reviews are from United States of America and least number of reviews are from middletown, ny    "
   ]
  },
  {
   "cell_type": "code",
   "execution_count": 17,
   "metadata": {},
   "outputs": [
    {
     "data": {
      "text/plain": [
       "2018-09-04    18\n",
       "2019-07-31    17\n",
       "2019-08-11    16\n",
       "2018-11-26    15\n",
       "2018-10-26    14\n",
       "              ..\n",
       "2019-04-10     1\n",
       "2019-05-03     1\n",
       "2019-06-06     1\n",
       "2019-01-22     1\n",
       "2018-12-21     1\n",
       "Name: date, Length: 363, dtype: int64"
      ]
     },
     "execution_count": 17,
     "metadata": {},
     "output_type": "execute_result"
    }
   ],
   "source": [
    "df['date'].value_counts(sort=True)"
   ]
  },
  {
   "cell_type": "markdown",
   "metadata": {},
   "source": [
    "from the above data it is shows that most reviews are given on 2018-09-04 and least reviews are given on 2018-12-21 "
   ]
  },
  {
   "cell_type": "markdown",
   "metadata": {},
   "source": [
    "# Testing sentiment of reviews using TextBlob"
   ]
  },
  {
   "cell_type": "code",
   "execution_count": 22,
   "metadata": {},
   "outputs": [
    {
     "data": {
      "text/plain": [
       "Sentiment(polarity=0.6000000000000001, subjectivity=0.9)"
      ]
     },
     "execution_count": 22,
     "metadata": {},
     "output_type": "execute_result"
    }
   ],
   "source": [
    "TextBlob(\"The food was amazing\").sentiment"
   ]
  },
  {
   "cell_type": "code",
   "execution_count": 23,
   "metadata": {},
   "outputs": [],
   "source": [
    "polarity = []\n",
    "\n",
    "subjectivity = []\n",
    "\n",
    "for i in df['Review'].values:\n",
    "    try:\n",
    "        analysis =TextBlob(i)\n",
    "        polarity.append(analysis.sentiment.polarity)\n",
    "        subjectivity.append(analysis.sentiment.subjectivity)\n",
    "    except:\n",
    "        polarity.append(0)\n",
    "        subjectivity.append(0)"
   ]
  },
  {
   "cell_type": "code",
   "execution_count": 24,
   "metadata": {},
   "outputs": [
    {
     "data": {
      "text/html": [
       "<div>\n",
       "<style scoped>\n",
       "    .dataframe tbody tr th:only-of-type {\n",
       "        vertical-align: middle;\n",
       "    }\n",
       "\n",
       "    .dataframe tbody tr th {\n",
       "        vertical-align: top;\n",
       "    }\n",
       "\n",
       "    .dataframe thead th {\n",
       "        text-align: right;\n",
       "    }\n",
       "</style>\n",
       "<table border=\"1\" class=\"dataframe\">\n",
       "  <thead>\n",
       "    <tr style=\"text-align: right;\">\n",
       "      <th></th>\n",
       "      <th>Review</th>\n",
       "      <th>date</th>\n",
       "      <th>Location</th>\n",
       "      <th>polarity</th>\n",
       "      <th>subjectivity</th>\n",
       "    </tr>\n",
       "  </thead>\n",
       "  <tbody>\n",
       "    <tr>\n",
       "      <th>0</th>\n",
       "      <td>I was very impressed with the resort.\\n Great ...</td>\n",
       "      <td>2019-08-20</td>\n",
       "      <td>Sebastian</td>\n",
       "      <td>0.437037</td>\n",
       "      <td>0.553333</td>\n",
       "    </tr>\n",
       "    <tr>\n",
       "      <th>1</th>\n",
       "      <td>The rooms were nice the outside needs work als...</td>\n",
       "      <td>2019-08-20</td>\n",
       "      <td>Los Angeles</td>\n",
       "      <td>0.229167</td>\n",
       "      <td>0.489583</td>\n",
       "    </tr>\n",
       "    <tr>\n",
       "      <th>2</th>\n",
       "      <td>Great location! I have stayed at this hotel on...</td>\n",
       "      <td>2019-08-20</td>\n",
       "      <td>Georgia</td>\n",
       "      <td>0.293939</td>\n",
       "      <td>0.367576</td>\n",
       "    </tr>\n",
       "    <tr>\n",
       "      <th>3</th>\n",
       "      <td>Great location, room was large and spacious. P...</td>\n",
       "      <td>2019-08-19</td>\n",
       "      <td>Palm Harbor</td>\n",
       "      <td>0.336565</td>\n",
       "      <td>0.454082</td>\n",
       "    </tr>\n",
       "    <tr>\n",
       "      <th>4</th>\n",
       "      <td>Very clean and friendly and I love the locatio...</td>\n",
       "      <td>2019-08-19</td>\n",
       "      <td>California</td>\n",
       "      <td>0.224750</td>\n",
       "      <td>0.497667</td>\n",
       "    </tr>\n",
       "  </tbody>\n",
       "</table>\n",
       "</div>"
      ],
      "text/plain": [
       "                                              Review       date     Location  \\\n",
       "0  I was very impressed with the resort.\\n Great ... 2019-08-20    Sebastian   \n",
       "1  The rooms were nice the outside needs work als... 2019-08-20  Los Angeles   \n",
       "2  Great location! I have stayed at this hotel on... 2019-08-20      Georgia   \n",
       "3  Great location, room was large and spacious. P... 2019-08-19  Palm Harbor   \n",
       "4  Very clean and friendly and I love the locatio... 2019-08-19   California   \n",
       "\n",
       "   polarity  subjectivity  \n",
       "0  0.437037      0.553333  \n",
       "1  0.229167      0.489583  \n",
       "2  0.293939      0.367576  \n",
       "3  0.336565      0.454082  \n",
       "4  0.224750      0.497667  "
      ]
     },
     "execution_count": 24,
     "metadata": {},
     "output_type": "execute_result"
    }
   ],
   "source": [
    "df['polarity'] = polarity\n",
    "df['subjectivity'] = subjectivity\n",
    "df.head()"
   ]
  },
  {
   "cell_type": "code",
   "execution_count": 25,
   "metadata": {},
   "outputs": [
    {
     "data": {
      "text/plain": [
       "<matplotlib.axes._subplots.AxesSubplot at 0x1a1573f3760>"
      ]
     },
     "execution_count": 25,
     "metadata": {},
     "output_type": "execute_result"
    },
    {
     "data": {
      "image/png": "[encoded data removed]",
      "text/plain": [
       "<Figure size 720x432 with 1 Axes>"
      ]
     },
     "metadata": {
      "needs_background": "light"
     },
     "output_type": "display_data"
    }
   ],
   "source": [
    "#Distribution of Polarity\n",
    "df.polarity.hist(bins=50, figsize = (10,6));\n"
   ]
  }
 ],
 "metadata": {
  "kernelspec": {
   "display_name": "Python 3",
   "language": "python",
   "name": "python3"
  },
  "language_info": {
   "codemirror_mode": {
    "name": "ipython",
    "version": 3
   },
   "file_extension": ".py",
   "mimetype": "text/x-python",
   "name": "python",
   "nbconvert_exporter": "python",
   "pygments_lexer": "ipython3",
   "version": "3.8.3"
  }
 },
 "nbformat": 4,
 "nbformat_minor": 4
}
